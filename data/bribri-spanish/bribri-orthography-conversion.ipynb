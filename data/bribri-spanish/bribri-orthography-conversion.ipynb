{
  "nbformat": 4,
  "nbformat_minor": 0,
  "metadata": {
    "colab": {
      "name": "bribri-orthography-conversion.ipynb",
      "provenance": [],
      "collapsed_sections": []
    },
    "kernelspec": {
      "name": "python3",
      "display_name": "Python 3"
    }
  },
  "cells": [
    {
      "cell_type": "markdown",
      "metadata": {
        "id": "bO6cP0yJoTfa"
      },
      "source": [
        "# Conversion of Bribri text to human-readable ortographies\n",
        "Rolando Coto-Solano. Last updated: May 8, 2021\n",
        "\n",
        "The [Bribri language](https://en.wikipedia.org/wiki/Bribri_language) is spoken by approximately 7000 people in southern Costa Rica. Bribri has two major orthographies: the [Constenla (1998) system](http://www.editorial.ucr.ac.cr/lenguas/item/2341-curso-basico-de-bribri.html), and the [Jara (2013) system](https://www.lenguabribri.com/se-tt%C3%B6-bribri-ie-hablemos-en-bribri). In addition to this, Bribri writing is not fully standardized, so there is considerable spelling variation between documents.\n",
        "\n",
        "In order to facilitate training, the sentences in the [AmNL2020 Shared Task](https://github.com/AmericasNLP/americasnlp2021/tree/main/data/bribri-spanish) use an intermediate representation of the orthography. This intermediate representation is meant for use by NLP algorithms; it unifies the existing orthographies but reduces the human readability of the text. If you are going to use the Bribri sentences in print, please convert the intermediate form into a human-readable form first (either Constenla or Jara).\n",
        "\n",
        "---\n",
        "\n",
        "# Conversión ortográfica del bribri a una ortografía legible\n",
        "Rolando Coto-Solano. Última actualización: 8 de mayo del 2021\n",
        "\n",
        "La [lengua bribri](https://en.wikipedia.org/wiki/Bribri_language) tiene aproximadamente 7000 hablantes, distribuidos en el sur de Costa Rica. El bribri tiene dos sistemas ortográficos principales: la ortografía de [Constenla (1998)](http://www.editorial.ucr.ac.cr/lenguas/item/2341-curso-basico-de-bribri.html), y la de [Jara (2013)](https://www.lenguabribri.com/se-tt%C3%B6-bribri-ie-hablemos-en-bribri). Además, la escritura del bribri no está estandarizada, así que existe mucha variación entre diferentes documentos escritos en la lengua.\n",
        "\n",
        "Para facilitar el entrenamiento, las oraciones en la [tarea compartida del AmNL2020](https://github.com/AmericasNLP/americasnlp2021/tree/main/data/bribri-spanish) usan una representación intermedia para la ortografía. Esta representación intermedia está diseñada para usarse con algoritmos de procesamiento de lenguaje natural. Esta hecha para unificar las ortografías existentes, pero al mismo tiempo reduce la legibilidad del texto. Si usted va a usar las oraciones bribri en algún documento impreso, por favor convierte la forma intermedia a una de las dos formas legibles por humanos (Constenla o Jara)."
      ]
    },
    {
      "cell_type": "markdown",
      "metadata": {
        "id": "fdp4yEJAoetl"
      },
      "source": [
        "## Function structure\n",
        "\n",
        "Input:\n",
        "\n",
        ">`bribriInput`: A string with a sentence in Bribri.<br>\n",
        ">`outputOrthography`: A string with one of two options: `constenla` or `jara`. This will determine the transcription system used in the output. (There are numerous differences in these systems, but the most visible difference is the marking of nasal vowels. In Constenla, nasal vowels are marked with a line underneath (a̠). In Jara, nasal vowels are marked with a tilde above the vowel (ã).\n",
        "\n",
        "Output:\n",
        "\n",
        ">`bribriOutput`: A string where the special characters in `bribriInput` have been converted to Unicode output with the human-readable diacritics.\n",
        "\n",
        "## Estructura de la función\n",
        "\n",
        "Input:\n",
        "\n",
        ">`bribriInput`: Una string con una oración en Bribri.<br>\n",
        ">`outputOrthography`: Una string con una de dos opciones: `constenla` or `jara`. Esto determinará cuál sistema ortográfico se usará en la salida. (Hay numerosas diferencias entre los dos sistemas, pero la diferencia más visible es la marcación de las vocales nasales. En Constenla, las nasales se marcan con una línea debajo de la vocal (a̠). En Jara, las nasales se marcan con una virgulilla sobre la vocal (ã).\n",
        "\n",
        "Output:\n",
        "\n",
        ">`bribriOutput`: Una string en la que los caracteres especiales de `bribriInput` han sido convertidos a una forma legible por humanos, con los diacríticos correctos."
      ]
    },
    {
      "cell_type": "code",
      "metadata": {
        "id": "-7p18COPlXqV"
      },
      "source": [
        "def convertToHumanSpelling(bribriInput, outputOrthography):\n",
        "\n",
        "  bribriOutput = bribriInput\n",
        "\n",
        "  punctuation = {\n",
        "      \" .\":\".\", \" ,\":\".\", \" !\":\"!\", \" ?\":\"?\"\n",
        "  }\n",
        "\n",
        "  if (outputOrthography==\"constenla\"):\n",
        "\n",
        "    # These use Sofía Flores' diacritic conventions,\n",
        "    # where the line is a COMBINING MINUS SIGN BELOW 0x0320\n",
        "    diacriticChars = {\n",
        "      \"ã\":\"a̠\", \"ẽ\":\"e̠\",\"ĩ\":\"i̠\", \"õ\":\"o̠\",\"ũ\":\"u̠\",                  # Nasal low tone\n",
        "      \"Ã\":\"A̠\", \"Ẽ\":\"E̠\",\"Ĩ\":\"I̠\", \"Õ\":\"O̠\",\"Ũ\":\"U̠\",                  # Nasal low tone, uppercase\n",
        "      \"áx\":\"á̠\", \"éx\":\"é̠\", \"íx\":\"í̠\", \"óx\":\"ó̠\", \"úx\":\"ú̠\",           # Nasal falling tone\n",
        "      \"Áx\":\"Á̠\", \"Éx\":\"É̠\", \"Íx\":\"Í̠\", \"Óx\":\"Ó̠\", \"Úx\":\"Ú̠\",           # Nasal falling tone, uppercase\n",
        "      \"àx\":\"à̠\", \"èx\":\"è̠\", \"ìx\":\"ì̠\", \"òx\":\"ò̠\", \"ùx\":\"ù̠\",           # Nasal high tone\n",
        "      \"Àx\":\"À̠\", \"Èx\":\"È̠\", \"Ìx\":\"Ì̠\", \"Òx\":\"Ò̠\", \"Ùx\":\"Ù̠\",           # Nasal high tone, uppercase\n",
        "      \"âx\":\"â̠\", \"êx\":\"ê̠\", \"îx\":\"î̠\", \"ôx\":\"ô̠\", \"ûx\":\"û̠\",           # Nasal rising tone\n",
        "      \"Âx\":\"Â̠\", \"Êx\":\"Ê̠\", \"Îx\":\"Î̠\", \"Ôx\":\"Ô̠\", \"Ûx\":\"Û̠\",           # Nasal rising tone, uppercase\n",
        "      \"éq\":\"ë́\", \"óq\":\"ö́\", \"èq\":\"ë̀\", \"òq\":\"ö̀\", \"êq\":\"ë̂\", \"ôq\":\"ö̂\", # Lax vowels\n",
        "      \"Éq\":\"Ë́\", \"Óq\":\"Ö́\", \"Èq\":\"Ë̀\", \"Òq\":\"Ö̀\", \"Êq\":\"Ë̂\", \"Ôq\":\"Ö̂\"  # Lax vowels,  uppercase\n",
        "    }\n",
        "\n",
        "    for c in diacriticChars: bribriOutput = bribriOutput.replace(c, diacriticChars.get(c))\n",
        "    for c in punctuation: bribriOutput = bribriOutput.replace(c, punctuation.get(c))\n",
        "\n",
        "  elif (outputOrthography==\"jara\"):\n",
        "\n",
        "    diacriticChars = {\n",
        "      \"ã\":\"ã\",\"ẽ\":\"ẽ\",\"ĩ\":\"ĩ\",\"õ\":\"õ\",\"ũ\":\"ũ\",                    # Nasal low tone\n",
        "      \"Ã\":\"Ã\", \"Ẽ\":\"Ẽ\",\"Ĩ\":\"Ĩ\", \"Õ\":\"Õ\",\"Ũ\":\"Ũ\",                  # Nasal low tone, uppercase\n",
        "      \"áx\":\"ã́\",\"éx\":\"ẽ́\",\"íx\":\"ĩ́\",\"óx\":\"ṍ\",\"úx\":\"ṹ\",               # Nasal falling tone\n",
        "      \"Áx\":\"Ã́\",\"Éx\":\"Ẽ́\",\"Íx\":\"Ĩ́\",\"Óx\":\"Ṍ\",\"Úx\":\"Ṹ\",               # Nasal falling tone, uppercase\n",
        "      \"àx\":\"ã̀\",\"èx\":\"ẽ̀\",\"ìx\":\"ĩ̀\",\"òx\":\"õ̀\",\"ùx\":\"ũ̀\",               # Nasal high tone\n",
        "      \"Àx\":\"Ã̀\",\"Èx\":\"Ẽ̀\",\"Ìx\":\"Ĩ̀\",\"Òx\":\"Õ̀\",\"Ùx\":\"Ũ̀\",               # Nasal high tone, uppercase\n",
        "      \"âx\":\"ã̂\",\"êx\":\"ẽ̂\",\"îx\":\"ĩ̂\",\"ôx\":\"õ̂\",\"ûx\":\"ũ̂\",               # Nasal rising tone\n",
        "      \"Âx\":\"Ã̂\",\"Êx\":\"Ẽ̂\",\"Îx\":\"Ĩ̂\",\"Ôx\":\"Õ̂\",\"Ûx\":\"Ũ̂\",               # Nasal rising tone, uppercase\n",
        "      \"éq\":\"ë́\",\"óq\":\"ö́\",\"èq\":\"ë̀\",\"òq\":\"ö̀\",\"êq\":\"ë̂\",\"ôq\":\"ö̂\",      # Lax vowels\n",
        "      \"Éq\":\"Ë́\", \"Óq\":\"Ö́\", \"Èq\":\"Ë̀\", \"Òq\":\"Ö̀\", \"Êq\":\"Ë̂\", \"Ôq\":\"Ö̂\"  # Lax vowels,  uppercase\n",
        "    }\n",
        "\n",
        "    coromaChanges = {\n",
        "        \"tk\":\"tch\",\n",
        "        \"Ñãlàx\":\"Ñõlòx\",\"ñãlàx\":\"ñõlòx\",                   # road\n",
        "        \"Káx\":\"Kóx\",\"káx\":\"kóx\",                           # place\n",
        "        \"Kàxlĩ\":\"Kòxlĩ\",\"kàxlĩ\":\"kòxlĩ\",                   # rain\n",
        "        \"Káxwötã'\":\"Kóxwötã'\",\"káxwötã'\":\"kóxwötã'\",       # need\n",
        "        \"Káxwötã\":\"Kóxwötã\",\"káxwötã\":\"kóxwötã\",           # need\n",
        "        \"Dakarò\":\"Krò\",\"dakarò\":\"krò\"                      # chicken\n",
        "    }\n",
        "\n",
        "    for c in coromaChanges: bribriOutput = bribriOutput.replace(c, coromaChanges.get(c))\n",
        "    for c in diacriticChars: bribriOutput = bribriOutput.replace(c, diacriticChars.get(c))\n",
        "    for c in punctuation: bribriOutput = bribriOutput.replace(c, punctuation.get(c))\n",
        "    \n",
        "  else:\n",
        "\n",
        "    print(\"Please specify one of the two available systems: constenla, jara\")\n",
        "\n",
        "  return(bribriOutput)"
      ],
      "execution_count": 15,
      "outputs": []
    },
    {
      "cell_type": "markdown",
      "metadata": {
        "id": "6x1126p8oh04"
      },
      "source": [
        "Ejemplo del uso de la función."
      ]
    },
    {
      "cell_type": "code",
      "metadata": {
        "colab": {
          "base_uri": "https://localhost:8080/"
        },
        "id": "tJqnwT4uoi_u",
        "outputId": "2389450e-d785-40e7-ae9b-384152de95f1"
      },
      "source": [
        "inputSentence = \"Ye' shkèxnã bua'ë .\"\n",
        "\n",
        "print(\"Input           : \" + inputSentence)\n",
        "\n",
        "outputConstenla = convertToHumanSpelling(inputSentence,\"constenla\")\n",
        "print(\"Output Constenla: \" + outputConstenla)\n",
        "\n",
        "outputJara = convertToHumanSpelling(inputSentence,\"jara\")\n",
        "print(\"Output Jara     : \" + outputJara)"
      ],
      "execution_count": null,
      "outputs": [
        {
          "output_type": "stream",
          "text": [
            "Input           : Ye' shkèxnã bua'ë .\n",
            "Output Constenla: Ye' shkè̠na̠ bua'ë.\n",
            "Output Jara     : Ye' shkẽ̀nã bua'ë.\n"
          ],
          "name": "stdout"
        }
      ]
    }
  ]
}